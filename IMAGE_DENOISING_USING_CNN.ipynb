{
  "nbformat": 4,
  "nbformat_minor": 0,
  "metadata": {
    "colab": {
      "provenance": [],
      "authorship_tag": "ABX9TyMk/3v2D8MiVarQWfGrMdkd",
      "include_colab_link": true
    },
    "kernelspec": {
      "name": "python3",
      "display_name": "Python 3"
    },
    "language_info": {
      "name": "python"
    }
  },
  "cells": [
    {
      "cell_type": "markdown",
      "metadata": {
        "id": "view-in-github",
        "colab_type": "text"
      },
      "source": [
        "<a href=\"https://colab.research.google.com/github/Ishi-ka117/image_denoising_/blob/main/IMAGE_DENOISING_USING_CNN.ipynb\" target=\"_parent\"><img src=\"https://colab.research.google.com/assets/colab-badge.svg\" alt=\"Open In Colab\"/></a>"
      ]
    },
    {
      "cell_type": "code",
      "source": [
        "LIBRARIES"
      ],
      "metadata": {
        "id": "Yw5ymnPFMwks"
      },
      "execution_count": null,
      "outputs": []
    },
    {
      "cell_type": "code",
      "execution_count": 3,
      "metadata": {
        "id": "cm6wzAU-7HVQ"
      },
      "outputs": [],
      "source": [
        "import os\n",
        "import numpy as np\n",
        "import tensorflow as tf\n",
        "from tensorflow.keras.models import Sequential\n",
        "from tensorflow.keras.layers import Conv2D, MaxPooling2D, UpSampling2D\n",
        "from tensorflow.keras.losses import MeanSquaredError\n",
        "from sklearn.model_selection import train_test_split\n",
        "import cv2\n",
        "import glob\n",
        "import matplotlib.pyplot as plt\n"
      ]
    },
    {
      "cell_type": "code",
      "source": [
        "from google.colab import drive\n",
        "drive.mount('/content/drive')"
      ],
      "metadata": {
        "colab": {
          "base_uri": "https://localhost:8080/"
        },
        "id": "IfHFh1Xf8lZ0",
        "outputId": "2909ed5b-dc13-47a0-f7c0-3b3b25da8345"
      },
      "execution_count": 4,
      "outputs": [
        {
          "output_type": "stream",
          "name": "stdout",
          "text": [
            "Mounted at /content/drive\n"
          ]
        }
      ]
    },
    {
      "cell_type": "markdown",
      "source": [
        "LOADING IMAGES, RESIZING, SPLITTING"
      ],
      "metadata": {
        "id": "JX_lxccVM2L9"
      }
    },
    {
      "cell_type": "code",
      "source": [
        "def load_images(image_dir, image_size):\n",
        "    images = []\n",
        "    for img_path in glob.glob(os.path.join(image_dir, '*.png')):\n",
        "        img = cv2.imread(img_path)\n",
        "        img = cv2.resize(img, image_size)\n",
        "        img = img / 255.0\n",
        "        images.append(img)\n",
        "    return np.array(images)\n",
        "\n",
        "image_size = (128, 128)\n",
        "low_res_images_path = '/content/drive/MyDrive/Train/Train/low'\n",
        "high_res_images_path = '/content/drive/MyDrive/Train/Train/high'\n",
        "\n",
        "low_res_images = load_images(low_res_images_path, image_size)\n",
        "high_res_images = load_images(high_res_images_path, image_size)\n",
        "\n",
        "low_res_train, low_res_val, high_res_train, high_res_val = train_test_split(\n",
        "    low_res_images, high_res_images, test_size=0.4,train_size=0.6, random_state=42)\n",
        "\n",
        "low_res_test=low_res_val"
      ],
      "metadata": {
        "id": "NAYvX70B7dZ1"
      },
      "execution_count": 5,
      "outputs": []
    },
    {
      "cell_type": "markdown",
      "source": [
        "ADDING NOISE TO THE IMAGES"
      ],
      "metadata": {
        "id": "2EK9YUf1NCfp"
      }
    },
    {
      "cell_type": "code",
      "source": [
        "import numpy as np\n",
        "import matplotlib.pyplot as plt\n",
        "\n",
        "def add_noise(images, noise_factor=0.1):\n",
        "    noisy_images = images + noise_factor * np.random.randn(*images.shape)\n",
        "    noisy_images = np.clip(noisy_images, 0., 1.)\n",
        "    return noisy_images\n",
        "noisy_low_res_train = add_noise(low_res_train)\n",
        "noisy_low_res_val = add_noise(low_res_val)\n"
      ],
      "metadata": {
        "id": "EAsM1UhrGW1D"
      },
      "execution_count": 7,
      "outputs": []
    },
    {
      "cell_type": "markdown",
      "source": [
        "IMPLEMENTING CONVOLUTIONAL NEURAL NETWORK\n",
        "COMPILING THE MODEL"
      ],
      "metadata": {
        "id": "AaBsCGHRNGLU"
      }
    },
    {
      "cell_type": "code",
      "source": [
        "model = Sequential([\n",
        "    Conv2D(64, (3, 3), activation='relu', padding='same', input_shape=(128, 128, 3)),\n",
        "    MaxPooling2D((2, 2), padding='same'),\n",
        "    Conv2D(128, (3, 3), activation='relu', padding='same'),\n",
        "    MaxPooling2D((2, 2), padding='same'),\n",
        "    Conv2D(256, (3, 3), activation='relu', padding='same'),\n",
        "    MaxPooling2D((2, 2), padding='same'),\n",
        "    Conv2D(512, (3, 3), activation='relu', padding='same'),\n",
        "    UpSampling2D((2, 2)),\n",
        "    Conv2D(256, (3, 3), activation='relu', padding='same'),\n",
        "    UpSampling2D((2, 2)),\n",
        "    Conv2D(128, (3, 3), activation='relu', padding='same'),\n",
        "    UpSampling2D((2, 2)),\n",
        "    Conv2D(64, (3, 3), activation='relu', padding='same'),\n",
        "    Conv2D(3, (3, 3), activation='sigmoid', padding='same')\n",
        "])\n",
        "from tensorflow.keras.optimizers import Adam\n",
        "optimizer = Adam(learning_rate=1e-5)\n",
        "\n",
        "model.compile(optimizer=optimizer, loss='mean_squared_error')\n",
        "\n",
        "\n",
        "model.summary()\n"
      ],
      "metadata": {
        "colab": {
          "base_uri": "https://localhost:8080/"
        },
        "id": "miokk5yc7gtb",
        "outputId": "8931f4e6-0173-4863-b662-c1c19522fc6d"
      },
      "execution_count": 8,
      "outputs": [
        {
          "output_type": "stream",
          "name": "stdout",
          "text": [
            "Model: \"sequential\"\n",
            "_________________________________________________________________\n",
            " Layer (type)                Output Shape              Param #   \n",
            "=================================================================\n",
            " conv2d (Conv2D)             (None, 128, 128, 64)      1792      \n",
            "                                                                 \n",
            " max_pooling2d (MaxPooling2  (None, 64, 64, 64)        0         \n",
            " D)                                                              \n",
            "                                                                 \n",
            " conv2d_1 (Conv2D)           (None, 64, 64, 128)       73856     \n",
            "                                                                 \n",
            " max_pooling2d_1 (MaxPoolin  (None, 32, 32, 128)       0         \n",
            " g2D)                                                            \n",
            "                                                                 \n",
            " conv2d_2 (Conv2D)           (None, 32, 32, 256)       295168    \n",
            "                                                                 \n",
            " max_pooling2d_2 (MaxPoolin  (None, 16, 16, 256)       0         \n",
            " g2D)                                                            \n",
            "                                                                 \n",
            " conv2d_3 (Conv2D)           (None, 16, 16, 512)       1180160   \n",
            "                                                                 \n",
            " up_sampling2d (UpSampling2  (None, 32, 32, 512)       0         \n",
            " D)                                                              \n",
            "                                                                 \n",
            " conv2d_4 (Conv2D)           (None, 32, 32, 256)       1179904   \n",
            "                                                                 \n",
            " up_sampling2d_1 (UpSamplin  (None, 64, 64, 256)       0         \n",
            " g2D)                                                            \n",
            "                                                                 \n",
            " conv2d_5 (Conv2D)           (None, 64, 64, 128)       295040    \n",
            "                                                                 \n",
            " up_sampling2d_2 (UpSamplin  (None, 128, 128, 128)     0         \n",
            " g2D)                                                            \n",
            "                                                                 \n",
            " conv2d_6 (Conv2D)           (None, 128, 128, 64)      73792     \n",
            "                                                                 \n",
            " conv2d_7 (Conv2D)           (None, 128, 128, 3)       1731      \n",
            "                                                                 \n",
            "=================================================================\n",
            "Total params: 3101443 (11.83 MB)\n",
            "Trainable params: 3101443 (11.83 MB)\n",
            "Non-trainable params: 0 (0.00 Byte)\n",
            "_________________________________________________________________\n"
          ]
        }
      ]
    },
    {
      "cell_type": "markdown",
      "source": [
        "DEFINIGN EPOCHS AND OPTIMIZER"
      ],
      "metadata": {
        "id": "jJ0Hn1Y_Nied"
      }
    },
    {
      "cell_type": "code",
      "source": [
        "image_size = (128, 128)\n",
        "batch_size = 64\n",
        "epochs = 50\n",
        "learning_rate = 1e-5"
      ],
      "metadata": {
        "id": "FJAf2v0oH0PG"
      },
      "execution_count": 18,
      "outputs": []
    },
    {
      "cell_type": "markdown",
      "source": [
        "IMPLEMENTING DATA AUGMENTATION"
      ],
      "metadata": {
        "id": "dRiLjyC6P42P"
      }
    },
    {
      "cell_type": "code",
      "source": [
        "from tensorflow.keras.preprocessing.image import ImageDataGenerator\n",
        "\n",
        "datagen = ImageDataGenerator(\n",
        "    rotation_range=20,\n",
        "    width_shift_range=0.1,\n",
        "    height_shift_range=0.1,\n",
        "    horizontal_flip=True,\n",
        "    vertical_flip=True\n",
        ")\n",
        "\n",
        "augmented_images = datagen.flow(noisy_low_res_train, high_res_train, batch_size=batch_size)"
      ],
      "metadata": {
        "id": "yS5BtK6UFMKM"
      },
      "execution_count": 19,
      "outputs": []
    },
    {
      "cell_type": "code",
      "source": [
        "# Train the model using the augmented images\n",
        "model.fit(augmented_images,\n",
        "          epochs=epochs,\n",
        "          steps_per_epoch=len(noisy_low_res_train) // batch_size,\n",
        "          validation_data=(noisy_low_res_val, high_res_val))"
      ],
      "metadata": {
        "colab": {
          "base_uri": "https://localhost:8080/"
        },
        "id": "WnGCwEKw9IPH",
        "outputId": "2865c945-9680-4cd3-881d-81c8dcfbb31c"
      },
      "execution_count": 20,
      "outputs": [
        {
          "output_type": "stream",
          "name": "stdout",
          "text": [
            "Epoch 1/50\n",
            "4/4 [==============================] - 196s 57s/step - loss: 0.0476 - val_loss: 0.0489\n",
            "Epoch 2/50\n",
            "4/4 [==============================] - 203s 54s/step - loss: 0.0488 - val_loss: 0.0490\n",
            "Epoch 3/50\n",
            "4/4 [==============================] - 184s 47s/step - loss: 0.0483 - val_loss: 0.0492\n",
            "Epoch 4/50\n",
            "4/4 [==============================] - 213s 57s/step - loss: 0.0483 - val_loss: 0.0493\n",
            "Epoch 5/50\n",
            "4/4 [==============================] - 186s 55s/step - loss: 0.0479 - val_loss: 0.0495\n",
            "Epoch 6/50\n",
            "4/4 [==============================] - 188s 48s/step - loss: 0.0484 - val_loss: 0.0496\n",
            "Epoch 7/50\n",
            "4/4 [==============================] - 200s 59s/step - loss: 0.0479 - val_loss: 0.0496\n",
            "Epoch 8/50\n",
            "4/4 [==============================] - 198s 51s/step - loss: 0.0474 - val_loss: 0.0494\n",
            "Epoch 9/50\n",
            "4/4 [==============================] - 190s 49s/step - loss: 0.0487 - val_loss: 0.0493\n",
            "Epoch 10/50\n",
            "4/4 [==============================] - 192s 55s/step - loss: 0.0472 - val_loss: 0.0493\n",
            "Epoch 11/50\n",
            "4/4 [==============================] - 190s 48s/step - loss: 0.0478 - val_loss: 0.0492\n",
            "Epoch 12/50\n",
            "4/4 [==============================] - 193s 50s/step - loss: 0.0481 - val_loss: 0.0491\n",
            "Epoch 13/50\n",
            "4/4 [==============================] - 186s 48s/step - loss: 0.0481 - val_loss: 0.0491\n",
            "Epoch 14/50\n",
            "4/4 [==============================] - 186s 48s/step - loss: 0.0489 - val_loss: 0.0490\n",
            "Epoch 15/50\n",
            "4/4 [==============================] - 189s 48s/step - loss: 0.0471 - val_loss: 0.0490\n",
            "Epoch 16/50\n",
            "4/4 [==============================] - 196s 51s/step - loss: 0.0472 - val_loss: 0.0489\n",
            "Epoch 17/50\n",
            "4/4 [==============================] - 197s 58s/step - loss: 0.0478 - val_loss: 0.0489\n",
            "Epoch 18/50\n",
            "4/4 [==============================] - 204s 53s/step - loss: 0.0485 - val_loss: 0.0489\n",
            "Epoch 19/50\n",
            "4/4 [==============================] - 200s 51s/step - loss: 0.0476 - val_loss: 0.0489\n",
            "Epoch 20/50\n",
            "4/4 [==============================] - 214s 56s/step - loss: 0.0473 - val_loss: 0.0487\n",
            "Epoch 21/50\n",
            "4/4 [==============================] - 185s 47s/step - loss: 0.0472 - val_loss: 0.0486\n",
            "Epoch 22/50\n",
            "4/4 [==============================] - 188s 54s/step - loss: 0.0476 - val_loss: 0.0485\n",
            "Epoch 23/50\n",
            "4/4 [==============================] - 187s 48s/step - loss: 0.0470 - val_loss: 0.0484\n",
            "Epoch 24/50\n",
            "4/4 [==============================] - 201s 53s/step - loss: 0.0482 - val_loss: 0.0484\n",
            "Epoch 25/50\n",
            "4/4 [==============================] - 207s 54s/step - loss: 0.0479 - val_loss: 0.0485\n",
            "Epoch 26/50\n",
            "4/4 [==============================] - 188s 48s/step - loss: 0.0479 - val_loss: 0.0484\n",
            "Epoch 27/50\n",
            "4/4 [==============================] - 206s 54s/step - loss: 0.0475 - val_loss: 0.0484\n",
            "Epoch 28/50\n",
            "4/4 [==============================] - 188s 48s/step - loss: 0.0472 - val_loss: 0.0484\n",
            "Epoch 29/50\n",
            "4/4 [==============================] - 203s 54s/step - loss: 0.0477 - val_loss: 0.0482\n",
            "Epoch 30/50\n",
            "4/4 [==============================] - 192s 50s/step - loss: 0.0469 - val_loss: 0.0480\n",
            "Epoch 31/50\n",
            "4/4 [==============================] - 188s 55s/step - loss: 0.0464 - val_loss: 0.0480\n",
            "Epoch 32/50\n",
            "4/4 [==============================] - 186s 47s/step - loss: 0.0470 - val_loss: 0.0481\n",
            "Epoch 33/50\n",
            "4/4 [==============================] - 191s 49s/step - loss: 0.0482 - val_loss: 0.0482\n",
            "Epoch 34/50\n",
            "4/4 [==============================] - 187s 48s/step - loss: 0.0477 - val_loss: 0.0478\n",
            "Epoch 35/50\n",
            "4/4 [==============================] - 186s 48s/step - loss: 0.0469 - val_loss: 0.0478\n",
            "Epoch 36/50\n",
            "4/4 [==============================] - 187s 48s/step - loss: 0.0473 - val_loss: 0.0478\n",
            "Epoch 37/50\n",
            "4/4 [==============================] - 192s 57s/step - loss: 0.0474 - val_loss: 0.0477\n",
            "Epoch 38/50\n",
            "4/4 [==============================] - 207s 55s/step - loss: 0.0468 - val_loss: 0.0476\n",
            "Epoch 39/50\n",
            "4/4 [==============================] - 194s 57s/step - loss: 0.0483 - val_loss: 0.0475\n",
            "Epoch 40/50\n",
            "4/4 [==============================] - 197s 48s/step - loss: 0.0463 - val_loss: 0.0474\n",
            "Epoch 41/50\n",
            "4/4 [==============================] - 193s 50s/step - loss: 0.0473 - val_loss: 0.0471\n",
            "Epoch 42/50\n",
            "4/4 [==============================] - 194s 51s/step - loss: 0.0467 - val_loss: 0.0469\n",
            "Epoch 43/50\n",
            "4/4 [==============================] - 198s 50s/step - loss: 0.0454 - val_loss: 0.0471\n",
            "Epoch 44/50\n",
            "4/4 [==============================] - 219s 57s/step - loss: 0.0462 - val_loss: 0.0477\n",
            "Epoch 45/50\n",
            "4/4 [==============================] - 230s 66s/step - loss: 0.0456 - val_loss: 0.0479\n",
            "Epoch 46/50\n",
            "4/4 [==============================] - 207s 52s/step - loss: 0.0473 - val_loss: 0.0471\n",
            "Epoch 47/50\n",
            "4/4 [==============================] - 203s 59s/step - loss: 0.0473 - val_loss: 0.0473\n",
            "Epoch 48/50\n",
            "4/4 [==============================] - 190s 48s/step - loss: 0.0463 - val_loss: 0.0465\n",
            "Epoch 49/50\n",
            "4/4 [==============================] - 193s 57s/step - loss: 0.0462 - val_loss: 0.0477\n",
            "Epoch 50/50\n",
            "4/4 [==============================] - 213s 55s/step - loss: 0.0468 - val_loss: 0.0470\n"
          ]
        },
        {
          "output_type": "execute_result",
          "data": {
            "text/plain": [
              "<keras.src.callbacks.History at 0x7df69ddf9840>"
            ]
          },
          "metadata": {},
          "execution_count": 20
        }
      ]
    },
    {
      "cell_type": "markdown",
      "source": [
        "EVALUATING THE MODEL"
      ],
      "metadata": {
        "id": "eEu9BA5LNtMz"
      }
    },
    {
      "cell_type": "code",
      "source": [
        "\n",
        "decoded_imgs = model.predict(noisy_low_res_val)\n"
      ],
      "metadata": {
        "colab": {
          "base_uri": "https://localhost:8080/"
        },
        "id": "sa5nKbUNHjkP",
        "outputId": "79d2c8be-675f-4c44-ef5b-e93891459018"
      },
      "execution_count": 21,
      "outputs": [
        {
          "output_type": "stream",
          "name": "stdout",
          "text": [
            "7/7 [==============================] - 56s 8s/step\n"
          ]
        }
      ]
    },
    {
      "cell_type": "code",
      "source": [
        " from sklearn.metrics import mean_squared_error, mean_absolute_error\n",
        " from math import log10, sqrt\n",
        " def PSNR(original, reconstructed):\n",
        "        mse = mean_squared_error(original.flatten(), reconstructed.flatten())\n",
        "        if mse == 0:  # MSE is zero means no noise is present in the signal.\n",
        "            return 100\n",
        "        max_pixel = 1.0  # Since the images are normalized between 0 and 1\n",
        "        psnr = 20 * log10(max_pixel / sqrt(mse))\n",
        "        return psnr"
      ],
      "metadata": {
        "id": "bSOJZfjfpfbN"
      },
      "execution_count": 22,
      "outputs": []
    },
    {
      "cell_type": "code",
      "source": [
        "mse_val = mean_squared_error(high_res_val.flatten(), decoded_imgs.flatten())\n",
        "psnr_val = PSNR(high_res_val, decoded_imgs)\n",
        "mae_val = mean_absolute_error(high_res_val.flatten(), decoded_imgs.flatten())\n",
        "\n"
      ],
      "metadata": {
        "id": "KvIBcig4p-l5"
      },
      "execution_count": 23,
      "outputs": []
    },
    {
      "cell_type": "code",
      "source": [
        "mse_val"
      ],
      "metadata": {
        "colab": {
          "base_uri": "https://localhost:8080/"
        },
        "id": "gbeZwDiFqCXS",
        "outputId": "bdd10ff6-b2c8-4dd2-b350-a57328794e79"
      },
      "execution_count": 24,
      "outputs": [
        {
          "output_type": "execute_result",
          "data": {
            "text/plain": [
              "0.04697833950530006"
            ]
          },
          "metadata": {},
          "execution_count": 24
        }
      ]
    },
    {
      "cell_type": "code",
      "source": [
        "psnr_val"
      ],
      "metadata": {
        "colab": {
          "base_uri": "https://localhost:8080/"
        },
        "id": "Ba_Al0jeqjfU",
        "outputId": "062267ce-a9f3-4831-fdd7-cd362675742a"
      },
      "execution_count": 25,
      "outputs": [
        {
          "output_type": "execute_result",
          "data": {
            "text/plain": [
              "13.281023378442798"
            ]
          },
          "metadata": {},
          "execution_count": 25
        }
      ]
    },
    {
      "cell_type": "code",
      "source": [
        "mae_val"
      ],
      "metadata": {
        "colab": {
          "base_uri": "https://localhost:8080/"
        },
        "id": "gmxmuToXqlLe",
        "outputId": "a1474375-5a81-4b2a-885e-a0086352491d"
      },
      "execution_count": 26,
      "outputs": [
        {
          "output_type": "execute_result",
          "data": {
            "text/plain": [
              "0.1789042852058105"
            ]
          },
          "metadata": {},
          "execution_count": 26
        }
      ]
    },
    {
      "cell_type": "markdown",
      "source": [
        "SAVING THE PREDICTED IMAGES"
      ],
      "metadata": {
        "id": "uJcv8SG_OMXA"
      }
    },
    {
      "cell_type": "code",
      "source": [
        "factor = 1  # Define factor with a specific value (replace 1 with your desired value)\n",
        "output_dir = f'./test/predicted_{factor}/'\n",
        "os.makedirs(output_dir, exist_ok=True)\n",
        "\n",
        "for i, img in enumerate(decoded_imgs):\n",
        "    cv2.imwrite(os.path.join(output_dir, f'predicted_{i}.png'), cv2.cvtColor(img * 255, cv2.COLOR_RGB2BGR))\n"
      ],
      "metadata": {
        "id": "TzFYUsyLqohA"
      },
      "execution_count": 28,
      "outputs": []
    },
    {
      "cell_type": "markdown",
      "source": [
        "PLOT THE PREDICTED IMAGES"
      ],
      "metadata": {
        "id": "rJhBsOpYOUhi"
      }
    },
    {
      "cell_type": "code",
      "source": [
        "predicted_files = os.listdir(output_dir)\n",
        "num_images_to_display = 10\n",
        "\n",
        "plt.figure(figsize=(20, 4))\n",
        "for i, file_name in enumerate(predicted_files[:num_images_to_display]):\n",
        "    img_path = os.path.join(output_dir, file_name)\n",
        "    img = cv2.imread(img_path)\n",
        "    img = cv2.cvtColor(img, cv2.COLOR_BGR2RGB)"
      ],
      "metadata": {
        "colab": {
          "base_uri": "https://localhost:8080/",
          "height": 34
        },
        "id": "MdOzd0cNOTrG",
        "outputId": "9479ab0d-cbe6-463b-ab04-66d2d212aa6e"
      },
      "execution_count": 29,
      "outputs": [
        {
          "output_type": "display_data",
          "data": {
            "text/plain": [
              "<Figure size 2000x400 with 0 Axes>"
            ]
          },
          "metadata": {}
        }
      ]
    },
    {
      "cell_type": "markdown",
      "source": [
        "DISPLAY THE PREDICTED IMAGE"
      ],
      "metadata": {
        "id": "gGesrLxKOfj-"
      }
    },
    {
      "cell_type": "code",
      "source": [
        "ax = plt.subplot(1, num_images_to_display, i + 1)\n",
        "plt.imshow(img)\n",
        "plt.title(file_name)\n",
        "plt.axis('off')\n",
        "\n",
        "plt.show()"
      ],
      "metadata": {
        "colab": {
          "base_uri": "https://localhost:8080/",
          "height": 101
        },
        "id": "TCGoIPUqOeZo",
        "outputId": "029aa3a2-4ca1-4be7-db71-d84bb2a42edd"
      },
      "execution_count": 30,
      "outputs": [
        {
          "output_type": "display_data",
          "data": {
            "text/plain": [
              "<Figure size 640x480 with 1 Axes>"
            ],
            "image/png": "[encoded data removed]"
          },
          "metadata": {}
        }
      ]
    },
    {
      "cell_type": "code",
      "source": [
        "results[factor] = (mse_val, psnr_val, mae_val)\n",
        "\n",
        "optimal_factor = max(results, key=lambda x: results[x][1])\n",
        "print(f\"The optimal noise factor is {optimal_factor} with a PSNR of {results[optimal_factor][1]} dB\")"
      ],
      "metadata": {
        "colab": {
          "base_uri": "https://localhost:8080/",
          "height": 211
        },
        "id": "Ha9RfqBuqyy1",
        "outputId": "6095606e-95e8-46aa-ef44-c14483a985be"
      },
      "execution_count": 31,
      "outputs": [
        {
          "output_type": "error",
          "ename": "NameError",
          "evalue": "name 'results' is not defined",
          "traceback": [
            "\u001b[0;31m---------------------------------------------------------------------------\u001b[0m",
            "\u001b[0;31mNameError\u001b[0m                                 Traceback (most recent call last)",
            "\u001b[0;32m<ipython-input-31-ef2eaa653308>\u001b[0m in \u001b[0;36m<cell line: 1>\u001b[0;34m()\u001b[0m\n\u001b[0;32m----> 1\u001b[0;31m \u001b[0mresults\u001b[0m\u001b[0;34m[\u001b[0m\u001b[0mfactor\u001b[0m\u001b[0;34m]\u001b[0m \u001b[0;34m=\u001b[0m \u001b[0;34m(\u001b[0m\u001b[0mmse_val\u001b[0m\u001b[0;34m,\u001b[0m \u001b[0mpsnr_val\u001b[0m\u001b[0;34m,\u001b[0m \u001b[0mmae_val\u001b[0m\u001b[0;34m)\u001b[0m\u001b[0;34m\u001b[0m\u001b[0;34m\u001b[0m\u001b[0m\n\u001b[0m\u001b[1;32m      2\u001b[0m \u001b[0;34m\u001b[0m\u001b[0m\n\u001b[1;32m      3\u001b[0m \u001b[0moptimal_factor\u001b[0m \u001b[0;34m=\u001b[0m \u001b[0mmax\u001b[0m\u001b[0;34m(\u001b[0m\u001b[0mresults\u001b[0m\u001b[0;34m,\u001b[0m \u001b[0mkey\u001b[0m\u001b[0;34m=\u001b[0m\u001b[0;32mlambda\u001b[0m \u001b[0mx\u001b[0m\u001b[0;34m:\u001b[0m \u001b[0mresults\u001b[0m\u001b[0;34m[\u001b[0m\u001b[0mx\u001b[0m\u001b[0;34m]\u001b[0m\u001b[0;34m[\u001b[0m\u001b[0;36m1\u001b[0m\u001b[0;34m]\u001b[0m\u001b[0;34m)\u001b[0m\u001b[0;34m\u001b[0m\u001b[0;34m\u001b[0m\u001b[0m\n\u001b[1;32m      4\u001b[0m \u001b[0mprint\u001b[0m\u001b[0;34m(\u001b[0m\u001b[0;34mf\"The optimal noise factor is {optimal_factor} with a PSNR of {results[optimal_factor][1]} dB\"\u001b[0m\u001b[0;34m)\u001b[0m\u001b[0;34m\u001b[0m\u001b[0;34m\u001b[0m\u001b[0m\n",
            "\u001b[0;31mNameError\u001b[0m: name 'results' is not defined"
          ]
        }
      ]
    },
    {
      "cell_type": "code",
      "source": [],
      "metadata": {
        "id": "SLm7ImppT3tm"
      },
      "execution_count": null,
      "outputs": []
    }
  ]
}